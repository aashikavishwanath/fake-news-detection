{
  "nbformat": 4,
  "nbformat_minor": 0,
  "metadata": {
    "colab": {
      "provenance": [],
      "authorship_tag": "ABX9TyN1UKMPc3uRECwLXPxhNotO"
    },
    "kernelspec": {
      "name": "python3",
      "display_name": "Python 3"
    },
    "language_info": {
      "name": "python"
    }
  },
  "cells": [
    {
      "cell_type": "code",
      "execution_count": null,
      "metadata": {
        "id": "xTHsX0FIC3wQ"
      },
      "outputs": [],
      "source": [
        "import os\n",
        "from bs4 import BeautifulSoup as bs\n",
        "import pickle\n",
        "\n",
        "basepath = '.'"
      ]
    },
    {
      "cell_type": "code",
      "source": [
        "with open(os.path.join(basepath, 'train_val_data.pkl'), 'rb') as f:\n",
        "  train_data, val_data = pickle.load(f)\n",
        "\n",
        "print('Number of train examples:', len(train_data))\n",
        "print('Number of val examples:', len(val_data))\n",
        "\n",
        "print('Fraction of train examples that are fake:', len([datapoint for datapoint in train_data if datapoint[2] == 0]) / float(len(train_data)))\n",
        "print('Fraction of val examples that are fake:', len([datapoint for datapoint in val_data if datapoint[2] == 0]) / float(len(val_data)))"
      ],
      "metadata": {
        "id": "bVfZuONVDESq"
      },
      "execution_count": null,
      "outputs": []
    },
    {
      "cell_type": "code",
      "source": [
        "example_idx = 18"
      ],
      "metadata": {
        "id": "aG9FmpyGDQYW"
      },
      "execution_count": null,
      "outputs": []
    },
    {
      "cell_type": "code",
      "source": [
        "print('Number of values per data point: %d\\n' % len(train_data[0]))\n",
        "\n",
        "print('URL for chosen example:', train_data[example_idx][0])\n",
        "print('Label for chosen example:', train_data[example_idx][2])\n",
        "print('HTML for chosen example (first 5000 chars):\\n\\n', bs(train_data[example_idx][1]).prettify()[:1000])\n"
      ],
      "metadata": {
        "id": "prS3QS-gDVuZ"
      },
      "execution_count": null,
      "outputs": []
    },
    {
      "cell_type": "code",
      "source": [
        "def get_real_and_fake_fractions(train_data, hypothesis):\n",
        "    # Label 0, hypothesis true\n",
        "    real_true = 0.0\n",
        "    # Label 0 total\n",
        "    real_total = 0.0\n",
        "    # Label 1, hypothesis true\n",
        "    fake_true = 0.0\n",
        "    # Label 1 total\n",
        "    fake_total = 0.0\n",
        "\n",
        "    for datapoint in train_data:\n",
        "        # Each datapoint has URL, HTML, label in that order.\n",
        "        label = datapoint[2]\n",
        "        hypothesis_truth = int(hypothesis(datapoint))\n",
        "        if label: # Fake\n",
        "            fake_total += 1\n",
        "            fake_true += hypothesis_truth\n",
        "        else: # Real\n",
        "            real_total += 1\n",
        "            real_true += hypothesis_truth\n",
        "\n",
        "    return real_true / real_total, fake_true / fake_total"
      ],
      "metadata": {
        "id": "WnwsNQPlDXtJ"
      },
      "execution_count": null,
      "outputs": []
    },
    {
      "cell_type": "code",
      "source": [
        "def domain_extension_hypothesis(datapoint):\n",
        "  extension = \".com\" #@param {type:\"string\"}\n",
        "  url = datapoint[0]\n",
        "  return url.endswith(extension)\n",
        "\n",
        "real_fraction, fake_fraction = get_real_and_fake_fractions(train_data,\n",
        "                                                           domain_extension_hypothesis)\n",
        "\n",
        "print('Real fraction:', real_fraction)\n",
        "print('Fake fraction:', fake_fraction)\n",
        "\n",
        "# Simple logic for making the printed ratio more interpretable.\n",
        "def pretty_ratio(fake_fraction, real_fraction):\n",
        "    ratio = (fake_fraction / real_fraction) if real_fraction > 0 else 'Infinity'\n",
        "    if fake_fraction == real_fraction:\n",
        "      ratio = 1\n",
        "    return ratio\n",
        "\n",
        "print('Ratio fraction:', pretty_ratio(fake_fraction, real_fraction))"
      ],
      "metadata": {
        "id": "w8thvKVGDf6q"
      },
      "execution_count": null,
      "outputs": []
    },
    {
      "cell_type": "code",
      "source": [
        "domain_name_extension_with_ratio_infinity = ''\n",
        "domain_name_extension_with_ratio_zero = ''"
      ],
      "metadata": {
        "id": "heqIlgndDjob"
      },
      "execution_count": null,
      "outputs": []
    },
    {
      "cell_type": "code",
      "source": [
        "def get_count_from_html(html, hypothesis_word):\n",
        "    # Transform word to lowercase for consistent results.\n",
        "    return html.count(hypothesis_word.lower())\n",
        "\n",
        "def word_threshold_hypothesis(datapoint):\n",
        "  hypothesis_word = \"Hilary\"\n",
        "  threshold = 3\n",
        "  # Transform HTML to lowercase for consistent results.\n",
        "  html = datapoint[1].lower()\n",
        "  count = get_count_from_html(html, hypothesis_word)\n",
        "  return count > threshold\n",
        "\n",
        "real_fraction, fake_fraction = get_real_and_fake_fractions(train_data,\n",
        "                                                           word_threshold_hypothesis)\n",
        "\n",
        "print('Real fraction:', real_fraction)\n",
        "print('Fake fraction:', fake_fraction)\n",
        "\n",
        "print('Ratio fraction:', pretty_ratio(fake_fraction, real_fraction))"
      ],
      "metadata": {
        "id": "_kGU6Si-Dvef"
      },
      "execution_count": null,
      "outputs": []
    }
  ]
}