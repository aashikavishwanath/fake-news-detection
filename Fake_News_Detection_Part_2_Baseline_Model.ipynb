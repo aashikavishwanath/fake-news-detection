{
  "nbformat": 4,
  "nbformat_minor": 0,
  "metadata": {
    "colab": {
      "provenance": [],
      "authorship_tag": "ABX9TyMLyE/7LYfeQ/lndHzjpQ1Q"
    },
    "kernelspec": {
      "name": "python3",
      "display_name": "Python 3"
    },
    "language_info": {
      "name": "python"
    }
  },
  "cells": [
    {
      "cell_type": "code",
      "execution_count": null,
      "metadata": {
        "id": "sFX5nHzjGYgu"
      },
      "outputs": [],
      "source": [
        "import math\n",
        "import os\n",
        "import numpy as np\n",
        "\n",
        "import pickle\n",
        "\n",
        "import requests, io, zipfile\n",
        "\n",
        "basepath = '.'\n",
        "\n",
        "from sklearn.linear_model import LogisticRegression\n",
        "from sklearn.metrics import precision_recall_fscore_support\n",
        "from sklearn.metrics import accuracy_score\n",
        "from sklearn.metrics import confusion_matrix"
      ]
    },
    {
      "cell_type": "code",
      "source": [
        "def prepare_data(data, featurizer):\n",
        "    X = []\n",
        "    y = []\n",
        "    for datapoint in data:\n",
        "        url, html, label = datapoint\n",
        "\n",
        "        html = html.lower()\n",
        "        y.append(label)\n",
        "\n",
        "        features = featurizer(url, html)\n",
        "        feature_descriptions, feature_values = zip(*features.items())\n",
        "\n",
        "        X.append(feature_values)\n",
        "\n",
        "    return X, y, feature_descriptions\n",
        "\n",
        "# Returns a dictionary mapping from plaintext feature descriptions to numerical\n",
        "# features for a (url, html) pair.\n",
        "def domain_featurizer(url, html):\n",
        "    features = {}\n",
        "\n",
        "    # Binary features for the domain name extension.\n",
        "    features['.com domain'] = url.endswith('.com')\n",
        "    features['.org domain'] = url.endswith('.org')\n",
        "    features['.net domain'] = url.endswith('.net')\n",
        "    features['.info domain'] = url.endswith('.info')\n",
        "    features['.org domain'] = url.endswith('.org')\n",
        "    features['.biz domain'] = url.endswith('.biz')\n",
        "    features['.ru domain'] = url.endswith('.ru')\n",
        "    features['.co.uk domain'] = url.endswith('.co.uk')\n",
        "\n",
        "    features['.co domain'] = url.endswith('.co')\n",
        "    features['.tv domain'] = url.endswith('.tv')\n",
        "    features['.news domain'] = url.endswith('.news')\n",
        "\n",
        "\n",
        "    return features"
      ],
      "metadata": {
        "id": "0YvBrq7NHPpZ"
      },
      "execution_count": null,
      "outputs": []
    },
    {
      "cell_type": "code",
      "source": [
        "with open(os.path.join(basepath, 'train_val_data.pkl'), 'rb') as f:\n",
        "  train_data, val_data = pickle.load(f)\n",
        "\n",
        "print('Number of train examples:', len(train_data))\n",
        "print('Number of val examples:', len(val_data))\n",
        "\n",
        "train_X, train_y, feature_descriptions = prepare_data(train_data, domain_featurizer)\n",
        "val_X, val_y, feature_descriptions = prepare_data(val_data, domain_featurizer)\n",
        "\n",
        "print('Number of features per example:', len(train_X[0]))\n",
        "print('Feature descriptions:')\n",
        "print(feature_descriptions)"
      ],
      "metadata": {
        "id": "EUWFSNS2HWf8"
      },
      "execution_count": null,
      "outputs": []
    },
    {
      "cell_type": "code",
      "source": [
        "baseline_model = LogisticRegression()\n",
        "baseline_model.fit(train_X, train_y)"
      ],
      "metadata": {
        "id": "jQH4Y4XmHax5"
      },
      "execution_count": null,
      "outputs": []
    },
    {
      "cell_type": "code",
      "source": [
        "train_y_pred = baseline_model.predict(train_X)\n",
        "print('Train accuracy', accuracy_score(train_y, train_y_pred))"
      ],
      "metadata": {
        "id": "yPe35oBPHbW5"
      },
      "execution_count": null,
      "outputs": []
    },
    {
      "cell_type": "code",
      "source": [
        "val_y_pred = baseline_model.predict(val_X)\n",
        "print('Val accuracy', accuracy_score(val_y, val_y_pred))"
      ],
      "metadata": {
        "id": "b7sltOzTHciq"
      },
      "execution_count": null,
      "outputs": []
    },
    {
      "cell_type": "code",
      "source": [
        "print('Confusion matrix:')\n",
        "print(confusion_matrix(val_y, val_y_pred))\n",
        "print(val_y_pred)"
      ],
      "metadata": {
        "id": "tkgj31qiHf6z"
      },
      "execution_count": null,
      "outputs": []
    },
    {
      "cell_type": "code",
      "source": [
        "print(np.mean(val_y_pred))\n",
        "prf = precision_recall_fscore_support(val_y, val_y_pred)\n",
        "\n",
        "print('Precision:', prf[0][1])\n",
        "print('Recall:', prf[1][1])\n",
        "print('F-Score:', prf[2][1])"
      ],
      "metadata": {
        "id": "Tyk6K79pHjE9"
      },
      "execution_count": null,
      "outputs": []
    },
    {
      "cell_type": "code",
      "source": [
        "# Gets the log count of a phrase/keyword in HTML (transforming the phrase/keyword\n",
        "# to lowercase).\n",
        "def get_normalized_count(html, phrase):\n",
        "    return math.log(1 + html.count(phrase.lower()))\n",
        "\n",
        "# Returns a dictionary mapping from plaintext feature descriptions to numerical\n",
        "# features for a (url, html) pair.\n",
        "def keyword_featurizer(url, html):\n",
        "    features = {}\n",
        "\n",
        "    # Same as before.\n",
        "    features['.com domain'] = url.endswith('.com')\n",
        "    features['.org domain'] = url.endswith('.org')\n",
        "    features['.net domain'] = url.endswith('.net')\n",
        "    features['.info domain'] = url.endswith('.info')\n",
        "    features['.org domain'] = url.endswith('.org')\n",
        "    features['.biz domain'] = url.endswith('.biz')\n",
        "    features['.ru domain'] = url.endswith('.ru')\n",
        "    features['.co.uk domain'] = url.endswith('.co.uk')\n",
        "    features['.co domain'] = url.endswith('.co')\n",
        "    features['.tv domain'] = url.endswith('.tv')\n",
        "    features['.news domain'] = url.endswith('.news')\n",
        "\n",
        "    keywords = ['trump', 'biden', 'clinton', 'sports', 'finance']\n",
        "\n",
        "    for keyword in keywords:\n",
        "      features[keyword + ' keyword'] = get_normalized_count(html, keyword)\n",
        "\n",
        "    return features"
      ],
      "metadata": {
        "id": "MLtz3TJZHoTz"
      },
      "execution_count": null,
      "outputs": []
    },
    {
      "cell_type": "code",
      "source": [
        "train_X, train_y, feature_descriptions = prepare_data(train_data, keyword_featurizer)\n",
        "val_X, val_y, feature_descriptions = prepare_data(val_data, keyword_featurizer)\n",
        "\n",
        "print('Number of features per example:', len(train_X[0]))\n",
        "print('Feature descriptions:')\n",
        "print(feature_descriptions)\n",
        "print()\n",
        "\n",
        "baseline_model = LogisticRegression()\n",
        "\n",
        "baseline_model.fit(train_X, train_y)\n",
        "print()\n",
        "\n",
        "train_y_pred = baseline_model.predict(train_X)\n",
        "print('Train accuracy', accuracy_score(train_y, train_y_pred))\n",
        "\n",
        "val_y_pred = baseline_model.predict(val_X)\n",
        "print('Val accuracy', accuracy_score(val_y, val_y_pred))\n",
        "\n",
        "print('Confusion matrix:')\n",
        "print(confusion_matrix(val_y, val_y_pred))\n",
        "\n",
        "prf = precision_recall_fscore_support(val_y, val_y_pred)\n",
        "\n",
        "print('Precision:', prf[0][1])\n",
        "print('Recall:', prf[1][1])\n",
        "print('F-Score:', prf[2][1])\n"
      ],
      "metadata": {
        "id": "M-S2AErlHsQa"
      },
      "execution_count": null,
      "outputs": []
    },
    {
      "cell_type": "code",
      "source": [
        "sorted(zip(feature_descriptions, baseline_model.coef_[0].tolist()), key=lambda x: x[1])"
      ],
      "metadata": {
        "id": "X_ule-e9HuwB"
      },
      "execution_count": null,
      "outputs": []
    },
    {
      "cell_type": "code",
      "source": [
        "train_y_pred = baseline_model.predict(train_X)\n",
        "print('Train accuracy', accuracy_score(train_y, train_y_pred))\n",
        "\n",
        "val_y_pred = baseline_model.predict(val_X)\n",
        "print('Val accuracy', accuracy_score(val_y, val_y_pred))\n",
        "\n",
        "print('Confusion matrix:')\n",
        "print(confusion_matrix(val_y, val_y_pred))\n",
        "\n",
        "prf = precision_recall_fscore_support(val_y, val_y_pred)\n",
        "\n",
        "print('Precision:', prf[0][1])\n",
        "print('Recall:', prf[1][1])\n",
        "print('F-Score:', prf[2][1])"
      ],
      "metadata": {
        "id": "W9Bc3j96Hx8M"
      },
      "execution_count": null,
      "outputs": []
    }
  ]
}